{
  "nbformat": 4,
  "nbformat_minor": 0,
  "metadata": {
    "colab": {
      "provenance": [],
      "machine_shape": "hm",
      "gpuType": "A100"
    },
    "kernelspec": {
      "name": "python3",
      "display_name": "Python 3"
    },
    "language_info": {
      "name": "python"
    },
    "accelerator": "GPU"
  },
  "cells": [
    {
      "cell_type": "code",
      "execution_count": 1,
      "metadata": {
        "id": "gIAPQ9udgtJ0"
      },
      "outputs": [],
      "source": [
        "# Importing essential libraries\n",
        "import pandas as pd\n",
        "import numpy as np\n",
        "from sklearn.model_selection import train_test_split\n",
        "import torch\n",
        "import torch.nn as nn\n",
        "import torch.optim as optim\n",
        "from torch.utils.data import DataLoader, Dataset\n",
        "import matplotlib.pyplot as plt\n",
        "import optuna"
      ]
    },
    {
      "cell_type": "code",
      "source": [
        "import kagglehub\n",
        "\n",
        "# Download latest version\n",
        "path = kagglehub.dataset_download(\"zalando-research/fashionmnist\")\n",
        "\n",
        "print(\"Path to dataset files:\", path)"
      ],
      "metadata": {
        "colab": {
          "base_uri": "https://localhost:8080/"
        },
        "id": "Dj1Ovt3HgvzY",
        "outputId": "7acbc1f2-fa49-4871-f109-90f64be7ebc4"
      },
      "execution_count": 2,
      "outputs": [
        {
          "output_type": "stream",
          "name": "stdout",
          "text": [
            "Path to dataset files: /kaggle/input/fashionmnist\n"
          ]
        }
      ]
    },
    {
      "cell_type": "code",
      "source": [
        "# prompt: write code for checking gpu availability\n",
        "\n",
        "if torch.cuda.is_available():\n",
        "    print(\"GPU is available\")\n",
        "else:\n",
        "    print(\"GPU is not available\")\n",
        "\n",
        "device = torch.device(\"cuda\" if torch.cuda.is_available() else \"cpu\")\n",
        "print(f\"Using device: {device}\")"
      ],
      "metadata": {
        "colab": {
          "base_uri": "https://localhost:8080/"
        },
        "id": "mp7Xch4D9m67",
        "outputId": "2c60c09e-ac7a-43d7-f01f-7af6e2e7c366"
      },
      "execution_count": 3,
      "outputs": [
        {
          "output_type": "stream",
          "name": "stdout",
          "text": [
            "GPU is available\n",
            "Using device: cuda\n"
          ]
        }
      ]
    },
    {
      "cell_type": "code",
      "source": [
        "df = pd.read_csv('/kaggle/input/fashionmnist/fashion-mnist_train.csv')\n",
        "df.head()"
      ],
      "metadata": {
        "colab": {
          "base_uri": "https://localhost:8080/",
          "height": 235
        },
        "id": "pL8vGdO3gvvS",
        "outputId": "44700015-2600-48cb-b019-2b080e7abb36"
      },
      "execution_count": 4,
      "outputs": [
        {
          "output_type": "execute_result",
          "data": {
            "text/plain": [
              "   label  pixel1  pixel2  pixel3  pixel4  pixel5  pixel6  pixel7  pixel8  \\\n",
              "0      2       0       0       0       0       0       0       0       0   \n",
              "1      9       0       0       0       0       0       0       0       0   \n",
              "2      6       0       0       0       0       0       0       0       5   \n",
              "3      0       0       0       0       1       2       0       0       0   \n",
              "4      3       0       0       0       0       0       0       0       0   \n",
              "\n",
              "   pixel9  ...  pixel775  pixel776  pixel777  pixel778  pixel779  pixel780  \\\n",
              "0       0  ...         0         0         0         0         0         0   \n",
              "1       0  ...         0         0         0         0         0         0   \n",
              "2       0  ...         0         0         0        30        43         0   \n",
              "3       0  ...         3         0         0         0         0         1   \n",
              "4       0  ...         0         0         0         0         0         0   \n",
              "\n",
              "   pixel781  pixel782  pixel783  pixel784  \n",
              "0         0         0         0         0  \n",
              "1         0         0         0         0  \n",
              "2         0         0         0         0  \n",
              "3         0         0         0         0  \n",
              "4         0         0         0         0  \n",
              "\n",
              "[5 rows x 785 columns]"
            ],
            "text/html": [
              "\n",
              "  <div id=\"df-08c92a08-d8c1-41ee-94d2-2ae731ab74f3\" class=\"colab-df-container\">\n",
              "    <div>\n",
              "<style scoped>\n",
              "    .dataframe tbody tr th:only-of-type {\n",
              "        vertical-align: middle;\n",
              "    }\n",
              "\n",
              "    .dataframe tbody tr th {\n",
              "        vertical-align: top;\n",
              "    }\n",
              "\n",
              "    .dataframe thead th {\n",
              "        text-align: right;\n",
              "    }\n",
              "</style>\n",
              "<table border=\"1\" class=\"dataframe\">\n",
              "  <thead>\n",
              "    <tr style=\"text-align: right;\">\n",
              "      <th></th>\n",
              "      <th>label</th>\n",
              "      <th>pixel1</th>\n",
              "      <th>pixel2</th>\n",
              "      <th>pixel3</th>\n",
              "      <th>pixel4</th>\n",
              "      <th>pixel5</th>\n",
              "      <th>pixel6</th>\n",
              "      <th>pixel7</th>\n",
              "      <th>pixel8</th>\n",
              "      <th>pixel9</th>\n",
              "      <th>...</th>\n",
              "      <th>pixel775</th>\n",
              "      <th>pixel776</th>\n",
              "      <th>pixel777</th>\n",
              "      <th>pixel778</th>\n",
              "      <th>pixel779</th>\n",
              "      <th>pixel780</th>\n",
              "      <th>pixel781</th>\n",
              "      <th>pixel782</th>\n",
              "      <th>pixel783</th>\n",
              "      <th>pixel784</th>\n",
              "    </tr>\n",
              "  </thead>\n",
              "  <tbody>\n",
              "    <tr>\n",
              "      <th>0</th>\n",
              "      <td>2</td>\n",
              "      <td>0</td>\n",
              "      <td>0</td>\n",
              "      <td>0</td>\n",
              "      <td>0</td>\n",
              "      <td>0</td>\n",
              "      <td>0</td>\n",
              "      <td>0</td>\n",
              "      <td>0</td>\n",
              "      <td>0</td>\n",
              "      <td>...</td>\n",
              "      <td>0</td>\n",
              "      <td>0</td>\n",
              "      <td>0</td>\n",
              "      <td>0</td>\n",
              "      <td>0</td>\n",
              "      <td>0</td>\n",
              "      <td>0</td>\n",
              "      <td>0</td>\n",
              "      <td>0</td>\n",
              "      <td>0</td>\n",
              "    </tr>\n",
              "    <tr>\n",
              "      <th>1</th>\n",
              "      <td>9</td>\n",
              "      <td>0</td>\n",
              "      <td>0</td>\n",
              "      <td>0</td>\n",
              "      <td>0</td>\n",
              "      <td>0</td>\n",
              "      <td>0</td>\n",
              "      <td>0</td>\n",
              "      <td>0</td>\n",
              "      <td>0</td>\n",
              "      <td>...</td>\n",
              "      <td>0</td>\n",
              "      <td>0</td>\n",
              "      <td>0</td>\n",
              "      <td>0</td>\n",
              "      <td>0</td>\n",
              "      <td>0</td>\n",
              "      <td>0</td>\n",
              "      <td>0</td>\n",
              "      <td>0</td>\n",
              "      <td>0</td>\n",
              "    </tr>\n",
              "    <tr>\n",
              "      <th>2</th>\n",
              "      <td>6</td>\n",
              "      <td>0</td>\n",
              "      <td>0</td>\n",
              "      <td>0</td>\n",
              "      <td>0</td>\n",
              "      <td>0</td>\n",
              "      <td>0</td>\n",
              "      <td>0</td>\n",
              "      <td>5</td>\n",
              "      <td>0</td>\n",
              "      <td>...</td>\n",
              "      <td>0</td>\n",
              "      <td>0</td>\n",
              "      <td>0</td>\n",
              "      <td>30</td>\n",
              "      <td>43</td>\n",
              "      <td>0</td>\n",
              "      <td>0</td>\n",
              "      <td>0</td>\n",
              "      <td>0</td>\n",
              "      <td>0</td>\n",
              "    </tr>\n",
              "    <tr>\n",
              "      <th>3</th>\n",
              "      <td>0</td>\n",
              "      <td>0</td>\n",
              "      <td>0</td>\n",
              "      <td>0</td>\n",
              "      <td>1</td>\n",
              "      <td>2</td>\n",
              "      <td>0</td>\n",
              "      <td>0</td>\n",
              "      <td>0</td>\n",
              "      <td>0</td>\n",
              "      <td>...</td>\n",
              "      <td>3</td>\n",
              "      <td>0</td>\n",
              "      <td>0</td>\n",
              "      <td>0</td>\n",
              "      <td>0</td>\n",
              "      <td>1</td>\n",
              "      <td>0</td>\n",
              "      <td>0</td>\n",
              "      <td>0</td>\n",
              "      <td>0</td>\n",
              "    </tr>\n",
              "    <tr>\n",
              "      <th>4</th>\n",
              "      <td>3</td>\n",
              "      <td>0</td>\n",
              "      <td>0</td>\n",
              "      <td>0</td>\n",
              "      <td>0</td>\n",
              "      <td>0</td>\n",
              "      <td>0</td>\n",
              "      <td>0</td>\n",
              "      <td>0</td>\n",
              "      <td>0</td>\n",
              "      <td>...</td>\n",
              "      <td>0</td>\n",
              "      <td>0</td>\n",
              "      <td>0</td>\n",
              "      <td>0</td>\n",
              "      <td>0</td>\n",
              "      <td>0</td>\n",
              "      <td>0</td>\n",
              "      <td>0</td>\n",
              "      <td>0</td>\n",
              "      <td>0</td>\n",
              "    </tr>\n",
              "  </tbody>\n",
              "</table>\n",
              "<p>5 rows × 785 columns</p>\n",
              "</div>\n",
              "    <div class=\"colab-df-buttons\">\n",
              "\n",
              "  <div class=\"colab-df-container\">\n",
              "    <button class=\"colab-df-convert\" onclick=\"convertToInteractive('df-08c92a08-d8c1-41ee-94d2-2ae731ab74f3')\"\n",
              "            title=\"Convert this dataframe to an interactive table.\"\n",
              "            style=\"display:none;\">\n",
              "\n",
              "  <svg xmlns=\"http://www.w3.org/2000/svg\" height=\"24px\" viewBox=\"0 -960 960 960\">\n",
              "    <path d=\"M120-120v-720h720v720H120Zm60-500h600v-160H180v160Zm220 220h160v-160H400v160Zm0 220h160v-160H400v160ZM180-400h160v-160H180v160Zm440 0h160v-160H620v160ZM180-180h160v-160H180v160Zm440 0h160v-160H620v160Z\"/>\n",
              "  </svg>\n",
              "    </button>\n",
              "\n",
              "  <style>\n",
              "    .colab-df-container {\n",
              "      display:flex;\n",
              "      gap: 12px;\n",
              "    }\n",
              "\n",
              "    .colab-df-convert {\n",
              "      background-color: #E8F0FE;\n",
              "      border: none;\n",
              "      border-radius: 50%;\n",
              "      cursor: pointer;\n",
              "      display: none;\n",
              "      fill: #1967D2;\n",
              "      height: 32px;\n",
              "      padding: 0 0 0 0;\n",
              "      width: 32px;\n",
              "    }\n",
              "\n",
              "    .colab-df-convert:hover {\n",
              "      background-color: #E2EBFA;\n",
              "      box-shadow: 0px 1px 2px rgba(60, 64, 67, 0.3), 0px 1px 3px 1px rgba(60, 64, 67, 0.15);\n",
              "      fill: #174EA6;\n",
              "    }\n",
              "\n",
              "    .colab-df-buttons div {\n",
              "      margin-bottom: 4px;\n",
              "    }\n",
              "\n",
              "    [theme=dark] .colab-df-convert {\n",
              "      background-color: #3B4455;\n",
              "      fill: #D2E3FC;\n",
              "    }\n",
              "\n",
              "    [theme=dark] .colab-df-convert:hover {\n",
              "      background-color: #434B5C;\n",
              "      box-shadow: 0px 1px 3px 1px rgba(0, 0, 0, 0.15);\n",
              "      filter: drop-shadow(0px 1px 2px rgba(0, 0, 0, 0.3));\n",
              "      fill: #FFFFFF;\n",
              "    }\n",
              "  </style>\n",
              "\n",
              "    <script>\n",
              "      const buttonEl =\n",
              "        document.querySelector('#df-08c92a08-d8c1-41ee-94d2-2ae731ab74f3 button.colab-df-convert');\n",
              "      buttonEl.style.display =\n",
              "        google.colab.kernel.accessAllowed ? 'block' : 'none';\n",
              "\n",
              "      async function convertToInteractive(key) {\n",
              "        const element = document.querySelector('#df-08c92a08-d8c1-41ee-94d2-2ae731ab74f3');\n",
              "        const dataTable =\n",
              "          await google.colab.kernel.invokeFunction('convertToInteractive',\n",
              "                                                    [key], {});\n",
              "        if (!dataTable) return;\n",
              "\n",
              "        const docLinkHtml = 'Like what you see? Visit the ' +\n",
              "          '<a target=\"_blank\" href=https://colab.research.google.com/notebooks/data_table.ipynb>data table notebook</a>'\n",
              "          + ' to learn more about interactive tables.';\n",
              "        element.innerHTML = '';\n",
              "        dataTable['output_type'] = 'display_data';\n",
              "        await google.colab.output.renderOutput(dataTable, element);\n",
              "        const docLink = document.createElement('div');\n",
              "        docLink.innerHTML = docLinkHtml;\n",
              "        element.appendChild(docLink);\n",
              "      }\n",
              "    </script>\n",
              "  </div>\n",
              "\n",
              "\n",
              "    <div id=\"df-5d041003-d53e-4b60-a86b-562fda7d153b\">\n",
              "      <button class=\"colab-df-quickchart\" onclick=\"quickchart('df-5d041003-d53e-4b60-a86b-562fda7d153b')\"\n",
              "                title=\"Suggest charts\"\n",
              "                style=\"display:none;\">\n",
              "\n",
              "<svg xmlns=\"http://www.w3.org/2000/svg\" height=\"24px\"viewBox=\"0 0 24 24\"\n",
              "     width=\"24px\">\n",
              "    <g>\n",
              "        <path d=\"M19 3H5c-1.1 0-2 .9-2 2v14c0 1.1.9 2 2 2h14c1.1 0 2-.9 2-2V5c0-1.1-.9-2-2-2zM9 17H7v-7h2v7zm4 0h-2V7h2v10zm4 0h-2v-4h2v4z\"/>\n",
              "    </g>\n",
              "</svg>\n",
              "      </button>\n",
              "\n",
              "<style>\n",
              "  .colab-df-quickchart {\n",
              "      --bg-color: #E8F0FE;\n",
              "      --fill-color: #1967D2;\n",
              "      --hover-bg-color: #E2EBFA;\n",
              "      --hover-fill-color: #174EA6;\n",
              "      --disabled-fill-color: #AAA;\n",
              "      --disabled-bg-color: #DDD;\n",
              "  }\n",
              "\n",
              "  [theme=dark] .colab-df-quickchart {\n",
              "      --bg-color: #3B4455;\n",
              "      --fill-color: #D2E3FC;\n",
              "      --hover-bg-color: #434B5C;\n",
              "      --hover-fill-color: #FFFFFF;\n",
              "      --disabled-bg-color: #3B4455;\n",
              "      --disabled-fill-color: #666;\n",
              "  }\n",
              "\n",
              "  .colab-df-quickchart {\n",
              "    background-color: var(--bg-color);\n",
              "    border: none;\n",
              "    border-radius: 50%;\n",
              "    cursor: pointer;\n",
              "    display: none;\n",
              "    fill: var(--fill-color);\n",
              "    height: 32px;\n",
              "    padding: 0;\n",
              "    width: 32px;\n",
              "  }\n",
              "\n",
              "  .colab-df-quickchart:hover {\n",
              "    background-color: var(--hover-bg-color);\n",
              "    box-shadow: 0 1px 2px rgba(60, 64, 67, 0.3), 0 1px 3px 1px rgba(60, 64, 67, 0.15);\n",
              "    fill: var(--button-hover-fill-color);\n",
              "  }\n",
              "\n",
              "  .colab-df-quickchart-complete:disabled,\n",
              "  .colab-df-quickchart-complete:disabled:hover {\n",
              "    background-color: var(--disabled-bg-color);\n",
              "    fill: var(--disabled-fill-color);\n",
              "    box-shadow: none;\n",
              "  }\n",
              "\n",
              "  .colab-df-spinner {\n",
              "    border: 2px solid var(--fill-color);\n",
              "    border-color: transparent;\n",
              "    border-bottom-color: var(--fill-color);\n",
              "    animation:\n",
              "      spin 1s steps(1) infinite;\n",
              "  }\n",
              "\n",
              "  @keyframes spin {\n",
              "    0% {\n",
              "      border-color: transparent;\n",
              "      border-bottom-color: var(--fill-color);\n",
              "      border-left-color: var(--fill-color);\n",
              "    }\n",
              "    20% {\n",
              "      border-color: transparent;\n",
              "      border-left-color: var(--fill-color);\n",
              "      border-top-color: var(--fill-color);\n",
              "    }\n",
              "    30% {\n",
              "      border-color: transparent;\n",
              "      border-left-color: var(--fill-color);\n",
              "      border-top-color: var(--fill-color);\n",
              "      border-right-color: var(--fill-color);\n",
              "    }\n",
              "    40% {\n",
              "      border-color: transparent;\n",
              "      border-right-color: var(--fill-color);\n",
              "      border-top-color: var(--fill-color);\n",
              "    }\n",
              "    60% {\n",
              "      border-color: transparent;\n",
              "      border-right-color: var(--fill-color);\n",
              "    }\n",
              "    80% {\n",
              "      border-color: transparent;\n",
              "      border-right-color: var(--fill-color);\n",
              "      border-bottom-color: var(--fill-color);\n",
              "    }\n",
              "    90% {\n",
              "      border-color: transparent;\n",
              "      border-bottom-color: var(--fill-color);\n",
              "    }\n",
              "  }\n",
              "</style>\n",
              "\n",
              "      <script>\n",
              "        async function quickchart(key) {\n",
              "          const quickchartButtonEl =\n",
              "            document.querySelector('#' + key + ' button');\n",
              "          quickchartButtonEl.disabled = true;  // To prevent multiple clicks.\n",
              "          quickchartButtonEl.classList.add('colab-df-spinner');\n",
              "          try {\n",
              "            const charts = await google.colab.kernel.invokeFunction(\n",
              "                'suggestCharts', [key], {});\n",
              "          } catch (error) {\n",
              "            console.error('Error during call to suggestCharts:', error);\n",
              "          }\n",
              "          quickchartButtonEl.classList.remove('colab-df-spinner');\n",
              "          quickchartButtonEl.classList.add('colab-df-quickchart-complete');\n",
              "        }\n",
              "        (() => {\n",
              "          let quickchartButtonEl =\n",
              "            document.querySelector('#df-5d041003-d53e-4b60-a86b-562fda7d153b button');\n",
              "          quickchartButtonEl.style.display =\n",
              "            google.colab.kernel.accessAllowed ? 'block' : 'none';\n",
              "        })();\n",
              "      </script>\n",
              "    </div>\n",
              "\n",
              "    </div>\n",
              "  </div>\n"
            ],
            "application/vnd.google.colaboratory.intrinsic+json": {
              "type": "dataframe",
              "variable_name": "df"
            }
          },
          "metadata": {},
          "execution_count": 4
        }
      ]
    },
    {
      "cell_type": "code",
      "source": [
        "df.shape"
      ],
      "metadata": {
        "colab": {
          "base_uri": "https://localhost:8080/"
        },
        "id": "_-uTZeY5-LiM",
        "outputId": "c9a459be-e25e-424b-ecf5-a1b45d0c5ccc"
      },
      "execution_count": null,
      "outputs": [
        {
          "output_type": "execute_result",
          "data": {
            "text/plain": [
              "(60000, 785)"
            ]
          },
          "metadata": {},
          "execution_count": 9
        }
      ]
    },
    {
      "cell_type": "code",
      "source": [
        "#Seed for reproducibility\n",
        "torch.manual_seed(42)"
      ],
      "metadata": {
        "colab": {
          "base_uri": "https://localhost:8080/"
        },
        "id": "QJ0LF7gigvsd",
        "outputId": "d661955b-e391-4957-a30c-0c1d269d0c67"
      },
      "execution_count": 5,
      "outputs": [
        {
          "output_type": "execute_result",
          "data": {
            "text/plain": [
              "<torch._C.Generator at 0x7fecd6d5fe90>"
            ]
          },
          "metadata": {},
          "execution_count": 5
        }
      ]
    },
    {
      "cell_type": "code",
      "source": [
        "# Function to display an image from the dataset\n",
        "def display_image(pixels, label):\n",
        "    image = pixels.reshape(28, 28)\n",
        "    plt.imshow(image, cmap='gray')\n",
        "    plt.title(f\"Label: {label}\")\n",
        "    plt.axis('off')\n",
        "    plt.show()\n",
        "\n",
        "# Display the first few images\n",
        "num_images_to_display = 10\n",
        "for i in range(num_images_to_display):\n",
        "    label = df.iloc[i, 0]\n",
        "    pixels = df.iloc[i, 1:].values.astype(np.uint8) # Ensure pixel values are uint8\n",
        "    display_image(pixels, label)"
      ],
      "metadata": {
        "colab": {
          "base_uri": "https://localhost:8080/",
          "height": 1000
        },
        "id": "9agLjWPLgvqJ",
        "outputId": "759d2515-bcf4-4fac-b040-b50242c62291"
      },
      "execution_count": 6,
      "outputs": [
        {
          "output_type": "display_data",
          "data": {
            "text/plain": [
              "<Figure size 640x480 with 1 Axes>"
            ],
            "image/png": "[encoded data removed]"
          },
          "metadata": {}
        },
        {
          "output_type": "display_data",
          "data": {
            "text/plain": [
              "<Figure size 640x480 with 1 Axes>"
            ],
            "image/png": "[encoded data removed]"
          },
          "metadata": {}
        },
        {
          "output_type": "display_data",
          "data": {
            "text/plain": [
              "<Figure size 640x480 with 1 Axes>"
            ],
            "image/png": "[encoded data removed]"
          },
          "metadata": {}
        },
        {
          "output_type": "display_data",
          "data": {
            "text/plain": [
              "<Figure size 640x480 with 1 Axes>"
            ],
            "image/png": "[encoded data removed]"
          },
          "metadata": {}
        },
        {
          "output_type": "display_data",
          "data": {
            "text/plain": [
              "<Figure size 640x480 with 1 Axes>"
            ],
            "image/png": "[encoded data removed]"
          },
          "metadata": {}
        },
        {
          "output_type": "display_data",
          "data": {
            "text/plain": [
              "<Figure size 640x480 with 1 Axes>"
            ],
            "image/png": "[encoded data removed]"
          },
          "metadata": {}
        },
        {
          "output_type": "display_data",
          "data": {
            "text/plain": [
              "<Figure size 640x480 with 1 Axes>"
            ],
            "image/png": "[encoded data removed]"
          },
          "metadata": {}
        },
        {
          "output_type": "display_data",
          "data": {
            "text/plain": [
              "<Figure size 640x480 with 1 Axes>"
            ],
            "image/png": "[encoded data removed]"
          },
          "metadata": {}
        },
        {
          "output_type": "display_data",
          "data": {
            "text/plain": [
              "<Figure size 640x480 with 1 Axes>"
            ],
            "image/png": "[encoded data removed]"
          },
          "metadata": {}
        },
        {
          "output_type": "display_data",
          "data": {
            "text/plain": [
              "<Figure size 640x480 with 1 Axes>"
            ],
            "image/png": "[encoded data removed]"
          },
          "metadata": {}
        }
      ]
    },
    {
      "cell_type": "code",
      "source": [
        "X =  df.iloc[:, 1:].values\n",
        "y = df.iloc[:, :1].values"
      ],
      "metadata": {
        "id": "sOhAxGmIgvnQ"
      },
      "execution_count": 7,
      "outputs": []
    },
    {
      "cell_type": "code",
      "source": [
        "X_train, X_test, y_train, y_test = train_test_split(X, y, test_size=0.2, random_state=42)"
      ],
      "metadata": {
        "id": "6ctz40mHgvi4"
      },
      "execution_count": 8,
      "outputs": []
    },
    {
      "cell_type": "code",
      "source": [
        "# Scaling the features\n",
        "X_train = X_train / 255.0\n",
        "X_test = X_test / 255.0"
      ],
      "metadata": {
        "id": "TgHgTjiSgvgi"
      },
      "execution_count": 9,
      "outputs": []
    },
    {
      "cell_type": "code",
      "source": [
        "# Create CustomDataset Class\n",
        "class CustomDataset(Dataset):\n",
        "  def __init__(self, X, y):\n",
        "    self.X = torch.tensor(X, dtype=torch.float32)\n",
        "    # Flatten the target labels to be 1D\n",
        "    self.y = torch.tensor(y, dtype=torch.long).squeeze()\n",
        "\n",
        "  def __getitem__(self, idx):\n",
        "    return self.X[idx], self.y[idx]\n",
        "\n",
        "  def __len__(self):\n",
        "    return len(self.X)"
      ],
      "metadata": {
        "id": "se7ncK7AgveO"
      },
      "execution_count": 10,
      "outputs": []
    },
    {
      "cell_type": "code",
      "source": [
        "# Create train_dataset object\n",
        "train_dataset = CustomDataset(X_train, y_train)"
      ],
      "metadata": {
        "id": "PC7csij-gvbY"
      },
      "execution_count": 11,
      "outputs": []
    },
    {
      "cell_type": "code",
      "source": [
        "# Create test_dataset object\n",
        "test_dataset = CustomDataset(X_test, y_test)"
      ],
      "metadata": {
        "id": "hRaH56zTgvYs"
      },
      "execution_count": 12,
      "outputs": []
    },
    {
      "cell_type": "code",
      "source": [
        "# Neural Network\n",
        "\n",
        "class ANN(nn.Module):\n",
        "  def __init__(self, input_size):\n",
        "    super().__init__()\n",
        "\n",
        "    self.model = nn.Sequential(\n",
        "        nn.Linear(input_size, 128),\n",
        "        nn.BatchNorm1d(128),\n",
        "        nn.ReLU(),\n",
        "        #nn.Dropout(0.5),  # 30% dropout\n",
        "        nn.Linear(128,64),\n",
        "        nn.BatchNorm1d(64),\n",
        "        nn.ReLU(),\n",
        "        nn.Dropout(0.5),  # 40% dropout\n",
        "        nn.Linear(64,10)\n",
        "    )\n",
        "\n",
        "  def forward(self, x):\n",
        "    return self.model(x)"
      ],
      "metadata": {
        "id": "uBXDTGb3he2J"
      },
      "execution_count": null,
      "outputs": []
    },
    {
      "cell_type": "code",
      "source": [
        "# Neural Network for Optuna\n",
        "\n",
        "class myANN(nn.Module):\n",
        "  def __init__(self, input_size, output_dim, num_hidden_layers, neurons_per_layer, dropout_rate):\n",
        "    super().__init__()\n",
        "\n",
        "    layers = []\n",
        "\n",
        "    for i in range(num_hidden_layers):\n",
        "\n",
        "      layers.append(nn.Linear(input_size, neurons_per_layer))\n",
        "      layers.append(nn.BatchNorm1d(neurons_per_layer))\n",
        "      layers.append(nn.ReLU())\n",
        "      layers.append(nn.Dropout(dropout_rate))\n",
        "\n",
        "      input_size = neurons_per_layer\n",
        "      neurons_per_layer = neurons_per_layer // 2\n",
        "\n",
        "    layers.append(nn.Linear(input_size, output_dim))\n",
        "    layers.append(nn.Softmax(dim=1))\n",
        "\n",
        "    self.model = nn.Sequential(*layers)\n",
        "\n",
        "  def forward(self, x):\n",
        "    return self.model(x)\n",
        "\n",
        "\n",
        ""
      ],
      "metadata": {
        "id": "C1QhIUvehjZk"
      },
      "execution_count": 50,
      "outputs": []
    },
    {
      "cell_type": "code",
      "source": [
        "# Optuna - Objective Function\n",
        "def objective(trail):\n",
        "\n",
        "  # Extract values from search space\n",
        "  num_hidden_layers = trail.suggest_int('num_hidden_layers', 1, 5)\n",
        "  neurons_per_layer = trail.suggest_int('neurons_per_layer', 32, 256, step = 8)\n",
        "  epochs = trail.suggest_int('epochs', 10, 50, step = 10)\n",
        "  learning_rate = trail.suggest_float('learning_rate', 1e-5, 1e-1, log = True)\n",
        "  dropout_rate = trail.suggest_float('dropout_rate', 0.0, 0.5, step = 0.1)\n",
        "  batch_size = trail.suggest_categorical('batch_size', [32, 64, 128])\n",
        "  optimizer_name = trail.suggest_categorical('optimizer', ['Adam', 'SGD'])\n",
        "\n",
        "  # Data Loaders\n",
        "  train_loader = DataLoader(train_dataset, batch_size = batch_size, shuffle=True, pin_memory= True)\n",
        "  test_loader = DataLoader(test_dataset, batch_size = batch_size, shuffle=False, pin_memory= True)\n",
        "\n",
        "  # Model init\n",
        "  input_dim = X_train.shape[1]\n",
        "  output_dim = 10\n",
        "\n",
        "  model = myANN(input_dim, output_dim, num_hidden_layers, neurons_per_layer, dropout_rate)\n",
        "  model = model.to(device)\n",
        "\n",
        "\n",
        "  # Loss Function\n",
        "  criterion = nn.CrossEntropyLoss()\n",
        "\n",
        "  # Optimizer\n",
        "  if optimizer_name == 'Adam':\n",
        "    optimizer = optim.Adam(model.parameters(), lr=learning_rate, weight_decay = 1e-4)\n",
        "  elif optimizer_name == 'SGD':\n",
        "    optimizer = optim.SGD(model.parameters(), lr=learning_rate, weight_decay = 1e-4)\n",
        "\n",
        "  # Training loop\n",
        "  for epoch in range(epochs):\n",
        "\n",
        "    for batch_features, batch_labels in train_loader:\n",
        "\n",
        "      # Moving training data batches to GPU\n",
        "      batch_features = batch_features.to(device)\n",
        "      batch_labels = batch_labels.to(device)\n",
        "\n",
        "      # Forward pass\n",
        "      outputs = model(batch_features)\n",
        "\n",
        "      # Calculate loss\n",
        "      loss = criterion(outputs, batch_labels)\n",
        "\n",
        "      # Backward pass and optimization\n",
        "      optimizer.zero_grad()\n",
        "      loss.backward()\n",
        "\n",
        "      # Update parameters\n",
        "      optimizer.step()\n",
        "\n",
        "  # Evaluation Loop\n",
        "  model.eval()\n",
        "\n",
        "  total = 0\n",
        "  correct = 0\n",
        "\n",
        "  with torch.no_grad():\n",
        "    for batch_features, batch_labels in test_loader:\n",
        "\n",
        "      batch_features = batch_features.to(device)\n",
        "      batch_labels = batch_labels.to(device)\n",
        "\n",
        "      y_pred = model(batch_features)\n",
        "\n",
        "      y_pred = torch.argmax(y_pred, dim=1)\n",
        "\n",
        "      total = total + (batch_labels.shape[0])\n",
        "      correct = correct + (batch_labels == y_pred).sum().item()\n",
        "\n",
        "  accuracy = correct / total\n",
        "\n",
        "  return accuracy"
      ],
      "metadata": {
        "id": "dfJRqfJyfxpb"
      },
      "execution_count": 51,
      "outputs": []
    },
    {
      "cell_type": "code",
      "source": [
        "# Create an Optuna study object\n",
        "# The 'direction' parameter is set to 'maximize', indicating that Optuna should try to maximize the objective function (model's accuracy).\n",
        "study = optuna.create_study(direction='maximize', sampler=optuna.samplers.TPESampler())"
      ],
      "metadata": {
        "colab": {
          "base_uri": "https://localhost:8080/"
        },
        "id": "VQ9c_0LOfySi",
        "outputId": "be3ebeab-05af-4f3b-e4cb-c7c269cd556d"
      },
      "execution_count": 52,
      "outputs": [
        {
          "output_type": "stream",
          "name": "stderr",
          "text": [
            "[I 2025-07-11 23:10:31,348] A new study created in memory with name: no-name-723866a0-23d8-4289-bf1f-a0185fb8fde0\n"
          ]
        }
      ]
    },
    {
      "cell_type": "code",
      "source": [
        "study.optimize(objective, n_trials=10)"
      ],
      "metadata": {
        "colab": {
          "base_uri": "https://localhost:8080/"
        },
        "id": "y7pNgKOBn162",
        "outputId": "83992a57-465a-4f95-a5d0-d2d5dc5ccd18"
      },
      "execution_count": 53,
      "outputs": [
        {
          "output_type": "stream",
          "name": "stderr",
          "text": [
            "[I 2025-07-11 23:12:56,809] Trial 0 finished with value: 0.8376666666666667 and parameters: {'num_hidden_layers': 4, 'neurons_per_layer': 176, 'epochs': 50, 'learning_rate': 0.0033661169488457747, 'dropout_rate': 0.30000000000000004, 'batch_size': 64, 'optimizer': 'Adam'}. Best is trial 0 with value: 0.8376666666666667.\n",
            "[I 2025-07-11 23:13:25,692] Trial 1 finished with value: 0.8289166666666666 and parameters: {'num_hidden_layers': 4, 'neurons_per_layer': 112, 'epochs': 10, 'learning_rate': 4.948132584840135e-05, 'dropout_rate': 0.2, 'batch_size': 64, 'optimizer': 'Adam'}. Best is trial 0 with value: 0.8376666666666667.\n",
            "[I 2025-07-11 23:17:12,986] Trial 2 finished with value: 0.8266666666666667 and parameters: {'num_hidden_layers': 5, 'neurons_per_layer': 104, 'epochs': 40, 'learning_rate': 0.00010922153724109638, 'dropout_rate': 0.2, 'batch_size': 32, 'optimizer': 'Adam'}. Best is trial 0 with value: 0.8376666666666667.\n",
            "[I 2025-07-11 23:17:58,454] Trial 3 finished with value: 0.34858333333333336 and parameters: {'num_hidden_layers': 4, 'neurons_per_layer': 208, 'epochs': 10, 'learning_rate': 0.00011823895296814499, 'dropout_rate': 0.30000000000000004, 'batch_size': 32, 'optimizer': 'SGD'}. Best is trial 0 with value: 0.8376666666666667.\n",
            "[I 2025-07-11 23:18:35,280] Trial 4 finished with value: 0.8245 and parameters: {'num_hidden_layers': 2, 'neurons_per_layer': 56, 'epochs': 10, 'learning_rate': 0.005056048687089194, 'dropout_rate': 0.1, 'batch_size': 32, 'optimizer': 'Adam'}. Best is trial 0 with value: 0.8376666666666667.\n",
            "[I 2025-07-11 23:19:39,477] Trial 5 finished with value: 0.8465 and parameters: {'num_hidden_layers': 2, 'neurons_per_layer': 72, 'epochs': 30, 'learning_rate': 0.004210330477934572, 'dropout_rate': 0.1, 'batch_size': 64, 'optimizer': 'Adam'}. Best is trial 5 with value: 0.8465.\n",
            "[I 2025-07-11 23:20:42,024] Trial 6 finished with value: 0.73975 and parameters: {'num_hidden_layers': 2, 'neurons_per_layer': 232, 'epochs': 50, 'learning_rate': 0.022937819200225022, 'dropout_rate': 0.1, 'batch_size': 128, 'optimizer': 'Adam'}. Best is trial 5 with value: 0.8465.\n",
            "[I 2025-07-11 23:21:53,460] Trial 7 finished with value: 0.8455 and parameters: {'num_hidden_layers': 3, 'neurons_per_layer': 192, 'epochs': 50, 'learning_rate': 0.007885230247825184, 'dropout_rate': 0.1, 'batch_size': 128, 'optimizer': 'Adam'}. Best is trial 5 with value: 0.8465.\n",
            "[I 2025-07-11 23:23:25,636] Trial 8 finished with value: 0.87525 and parameters: {'num_hidden_layers': 2, 'neurons_per_layer': 48, 'epochs': 50, 'learning_rate': 0.029541044257809443, 'dropout_rate': 0.0, 'batch_size': 64, 'optimizer': 'SGD'}. Best is trial 8 with value: 0.87525.\n",
            "[I 2025-07-11 23:24:14,050] Trial 9 finished with value: 0.8655833333333334 and parameters: {'num_hidden_layers': 1, 'neurons_per_layer': 72, 'epochs': 50, 'learning_rate': 0.06680350851682114, 'dropout_rate': 0.5, 'batch_size': 128, 'optimizer': 'SGD'}. Best is trial 8 with value: 0.87525.\n"
          ]
        }
      ]
    },
    {
      "cell_type": "code",
      "source": [
        "study.best_value"
      ],
      "metadata": {
        "colab": {
          "base_uri": "https://localhost:8080/"
        },
        "id": "TGnuz51Sn1yu",
        "outputId": "a769d5da-b833-4319-bc3d-16a3461abcbe"
      },
      "execution_count": 48,
      "outputs": [
        {
          "output_type": "execute_result",
          "data": {
            "text/plain": [
              "0.8375"
            ]
          },
          "metadata": {},
          "execution_count": 48
        }
      ]
    },
    {
      "cell_type": "code",
      "source": [
        "study.best_params\n"
      ],
      "metadata": {
        "id": "or7nkWfIq_1v",
        "colab": {
          "base_uri": "https://localhost:8080/"
        },
        "outputId": "84bab93d-792f-465e-f9fb-1d778b308b3c"
      },
      "execution_count": 49,
      "outputs": [
        {
          "output_type": "execute_result",
          "data": {
            "text/plain": [
              "{'num_hidden_layers': 1, 'neurons_per_layer': 208, 'optimizer': 'SGD'}"
            ]
          },
          "metadata": {},
          "execution_count": 49
        }
      ]
    },
    {
      "cell_type": "code",
      "source": [
        "## Boilerplate code\n",
        "patience = 0\n",
        "# Training Loop\n",
        "for epoch in range(num_epochs):\n",
        "  total_epoch_loss = 0.0\n",
        "  total_validation_loss = 0.0\n",
        "  for batch_features, batch_labels in train_loader:\n",
        "\n",
        "    # Moving training data batches to GPU\n",
        "    batch_features = batch_features.to(device)\n",
        "    batch_labels = batch_labels.to(device)\n",
        "\n",
        "    # Forward pass\n",
        "    outputs = model(batch_features)\n",
        "\n",
        "    # Calculate loss\n",
        "    loss = criterion(outputs, batch_labels)\n",
        "    total_epoch_loss += loss.item()\n",
        "    # Backward pass and optimization\n",
        "    optimizer.zero_grad()\n",
        "    loss.backward()\n",
        "\n",
        "    # Update parameters\n",
        "    optimizer.step()\n",
        "\n",
        "  # VAlidation loss\n",
        "  for batch_features, batch_labels in test_loader:\n",
        "\n",
        "    # Moving training data batches to GPU\n",
        "    batch_features = batch_features.to(device)\n",
        "    batch_labels = batch_labels.to(device)\n",
        "\n",
        "    # Forward pass\n",
        "    outputs = model(batch_features)\n",
        "\n",
        "    # Calculate loss\n",
        "    loss = criterion(outputs, batch_labels)\n",
        "    total_validation_loss += loss.item()\n",
        "\n",
        "  avg_loss = total_epoch_loss / len(train_loader)\n",
        "  avg_validation_loss = total_validation_loss / len(test_loader)\n",
        "  print(f'Epoch [{epoch+1}/{num_epochs}], Loss: {avg_loss:.4f}, Validation Loss: {avg_validation_loss:.4f}')\n",
        "\n"
      ],
      "metadata": {
        "colab": {
          "base_uri": "https://localhost:8080/"
        },
        "id": "2hjQEBcTO1bV",
        "outputId": "93f66da8-c2dc-42bb-ebba-99286299b216"
      },
      "execution_count": null,
      "outputs": [
        {
          "output_type": "stream",
          "name": "stdout",
          "text": [
            "Epoch [1/50], Loss: 0.5871, Validation Loss: 0.4813\n",
            "Epoch [2/50], Loss: 0.4645, Validation Loss: 0.4438\n",
            "Epoch [3/50], Loss: 0.4390, Validation Loss: 0.4542\n",
            "Epoch [4/50], Loss: 0.4288, Validation Loss: 0.4150\n",
            "Epoch [5/50], Loss: 0.4194, Validation Loss: 0.4227\n",
            "Epoch [6/50], Loss: 0.4127, Validation Loss: 0.4433\n",
            "Epoch [7/50], Loss: 0.4078, Validation Loss: 0.4232\n",
            "Epoch [8/50], Loss: 0.4027, Validation Loss: 0.4304\n",
            "Epoch [9/50], Loss: 0.3998, Validation Loss: 0.4210\n",
            "Epoch [10/50], Loss: 0.3994, Validation Loss: 0.4261\n",
            "Epoch [11/50], Loss: 0.3997, Validation Loss: 0.4143\n",
            "Epoch [12/50], Loss: 0.3935, Validation Loss: 0.4308\n",
            "Epoch [13/50], Loss: 0.3970, Validation Loss: 0.4410\n",
            "Epoch [14/50], Loss: 0.3905, Validation Loss: 0.4065\n",
            "Epoch [15/50], Loss: 0.3853, Validation Loss: 0.4162\n",
            "Epoch [16/50], Loss: 0.3934, Validation Loss: 0.4198\n",
            "Epoch [17/50], Loss: 0.3821, Validation Loss: 0.4087\n",
            "Epoch [18/50], Loss: 0.3851, Validation Loss: 0.4178\n",
            "Epoch [19/50], Loss: 0.3860, Validation Loss: 0.4393\n",
            "Epoch [20/50], Loss: 0.3884, Validation Loss: 0.4268\n",
            "Epoch [21/50], Loss: 0.3865, Validation Loss: 0.4315\n",
            "Epoch [22/50], Loss: 0.3856, Validation Loss: 0.4412\n",
            "Epoch [23/50], Loss: 0.3898, Validation Loss: 0.4247\n",
            "Epoch [24/50], Loss: 0.3863, Validation Loss: 0.4374\n",
            "Epoch [25/50], Loss: 0.3819, Validation Loss: 0.4329\n",
            "Epoch [26/50], Loss: 0.3874, Validation Loss: 0.4182\n",
            "Epoch [27/50], Loss: 0.3841, Validation Loss: 0.4256\n",
            "Epoch [28/50], Loss: 0.3839, Validation Loss: 0.4072\n",
            "Epoch [29/50], Loss: 0.3781, Validation Loss: 0.4172\n",
            "Epoch [30/50], Loss: 0.3823, Validation Loss: 0.4274\n",
            "Epoch [31/50], Loss: 0.3792, Validation Loss: 0.4115\n",
            "Epoch [32/50], Loss: 0.3789, Validation Loss: 0.4278\n",
            "Epoch [33/50], Loss: 0.3780, Validation Loss: 0.4162\n",
            "Epoch [34/50], Loss: 0.3790, Validation Loss: 0.4362\n",
            "Epoch [35/50], Loss: 0.3830, Validation Loss: 0.4299\n",
            "Epoch [36/50], Loss: 0.3838, Validation Loss: 0.4236\n",
            "Epoch [37/50], Loss: 0.3779, Validation Loss: 0.4205\n",
            "Epoch [38/50], Loss: 0.3770, Validation Loss: 0.4170\n",
            "Epoch [39/50], Loss: 0.3849, Validation Loss: 0.4049\n",
            "Epoch [40/50], Loss: 0.3729, Validation Loss: 0.4374\n",
            "Epoch [41/50], Loss: 0.3796, Validation Loss: 0.4234\n",
            "Epoch [42/50], Loss: 0.3809, Validation Loss: 0.4308\n",
            "Epoch [43/50], Loss: 0.3823, Validation Loss: 0.3982\n",
            "Epoch [44/50], Loss: 0.3819, Validation Loss: 0.4135\n",
            "Epoch [45/50], Loss: 0.3829, Validation Loss: 0.4115\n",
            "Epoch [46/50], Loss: 0.3814, Validation Loss: 0.4197\n",
            "Epoch [47/50], Loss: 0.3764, Validation Loss: 0.4179\n",
            "Epoch [48/50], Loss: 0.3794, Validation Loss: 0.4304\n",
            "Epoch [49/50], Loss: 0.3762, Validation Loss: 0.4197\n",
            "Epoch [50/50], Loss: 0.3801, Validation Loss: 0.4426\n"
          ]
        }
      ]
    },
    {
      "cell_type": "code",
      "source": [],
      "metadata": {
        "id": "UXnGch-wPC1A"
      },
      "execution_count": null,
      "outputs": []
    }
  ]
}